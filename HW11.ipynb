{
 "cells": [
  {
   "cell_type": "code",
   "execution_count": 6,
   "id": "6b1cecca",
   "metadata": {},
   "outputs": [],
   "source": [
    "# Даны две функции:\n",
    "# f(x) = x^3 - 50x и g(x) = -x^4 + 88x^2 - 241\n",
    "# Требуется:\n",
    "# 1. Найти точки пересечения этих функций.\n",
    "# 2. Построить графики функций в одной системе координат\n",
    "# 3. Построить график общей функции"
   ]
  },
  {
   "cell_type": "code",
   "execution_count": 3,
   "id": "760f46f2",
   "metadata": {},
   "outputs": [],
   "source": [
    "from sympy import*\n",
    "from sympy import Symbol\n",
    "from sympy.plotting import plot"
   ]
  },
  {
   "cell_type": "code",
   "execution_count": 4,
   "id": "168fa4a9",
   "metadata": {},
   "outputs": [],
   "source": [
    "x = Symbol(\"x\")\n",
    "fx = x**3 - 50*x"
   ]
  },
  {
   "cell_type": "code",
   "execution_count": 5,
   "id": "8eadf635",
   "metadata": {},
   "outputs": [
    {
     "data": {
      "text/latex": [
       "$\\displaystyle x^{3} - 50 x$"
      ],
      "text/plain": [
       "x**3 - 50*x"
      ]
     },
     "execution_count": 5,
     "metadata": {},
     "output_type": "execute_result"
    }
   ],
   "source": [
    "fx"
   ]
  },
  {
   "cell_type": "code",
   "execution_count": 6,
   "id": "f4affcf8",
   "metadata": {},
   "outputs": [],
   "source": [
    "gx = -x**4 + 88*x**2 - 241"
   ]
  },
  {
   "cell_type": "code",
   "execution_count": 7,
   "id": "be4816ea",
   "metadata": {},
   "outputs": [
    {
     "data": {
      "text/latex": [
       "$\\displaystyle - x^{4} + 88 x^{2} - 241$"
      ],
      "text/plain": [
       "-x**4 + 88*x**2 - 241"
      ]
     },
     "execution_count": 7,
     "metadata": {},
     "output_type": "execute_result"
    }
   ],
   "source": [
    "gx"
   ]
  },
  {
   "cell_type": "code",
   "execution_count": null,
   "id": "0a1a5ed1",
   "metadata": {},
   "outputs": [],
   "source": [
    "# 1. Найти точки пересечения этих функций."
   ]
  },
  {
   "cell_type": "code",
   "execution_count": 8,
   "id": "0f7c71b7",
   "metadata": {},
   "outputs": [],
   "source": [
    "hx = x**3 - 50*x + x**4 - 88*x**2 + 241\n",
    "# hx = fx - gx"
   ]
  },
  {
   "cell_type": "code",
   "execution_count": 9,
   "id": "e9ee5bbb",
   "metadata": {},
   "outputs": [
    {
     "data": {
      "text/latex": [
       "$\\displaystyle x^{4} + x^{3} - 88 x^{2} - 50 x + 241$"
      ],
      "text/plain": [
       "x**4 + x**3 - 88*x**2 - 50*x + 241"
      ]
     },
     "execution_count": 9,
     "metadata": {},
     "output_type": "execute_result"
    }
   ],
   "source": [
    "hx"
   ]
  },
  {
   "cell_type": "code",
   "execution_count": 10,
   "id": "a4aff960",
   "metadata": {},
   "outputs": [],
   "source": [
    "x1, x2, x3, x4 = solve(hx)"
   ]
  },
  {
   "cell_type": "code",
   "execution_count": 11,
   "id": "e575c1d9",
   "metadata": {},
   "outputs": [
    {
     "data": {
      "text/latex": [
       "$\\displaystyle -9.5$"
      ],
      "text/plain": [
       "-9.5"
      ]
     },
     "execution_count": 11,
     "metadata": {},
     "output_type": "execute_result"
    }
   ],
   "source": [
    "x1.evalf(2, chop=True)"
   ]
  },
  {
   "cell_type": "code",
   "execution_count": 17,
   "id": "29af598c",
   "metadata": {},
   "outputs": [],
   "source": [
    "x1 = -9.5\n",
    "y1 =x1**3 - 50*x1"
   ]
  },
  {
   "cell_type": "code",
   "execution_count": 18,
   "id": "9e6f0232",
   "metadata": {},
   "outputs": [
    {
     "data": {
      "text/plain": [
       "-382.375"
      ]
     },
     "execution_count": 18,
     "metadata": {},
     "output_type": "execute_result"
    }
   ],
   "source": [
    "y1"
   ]
  },
  {
   "cell_type": "code",
   "execution_count": 12,
   "id": "47d5dcaa",
   "metadata": {},
   "outputs": [
    {
     "data": {
      "text/latex": [
       "$\\displaystyle 1.4$"
      ],
      "text/plain": [
       "1.4"
      ]
     },
     "execution_count": 12,
     "metadata": {},
     "output_type": "execute_result"
    }
   ],
   "source": [
    "x2.evalf(2, chop=True)"
   ]
  },
  {
   "cell_type": "code",
   "execution_count": 19,
   "id": "795f431a",
   "metadata": {},
   "outputs": [],
   "source": [
    "x2 = 1.4\n",
    "y2 = x2**3 - 50*x2"
   ]
  },
  {
   "cell_type": "code",
   "execution_count": 20,
   "id": "7384c492",
   "metadata": {},
   "outputs": [
    {
     "data": {
      "text/plain": [
       "-67.256"
      ]
     },
     "execution_count": 20,
     "metadata": {},
     "output_type": "execute_result"
    }
   ],
   "source": [
    "y2"
   ]
  },
  {
   "cell_type": "code",
   "execution_count": 63,
   "id": "b016e5bb",
   "metadata": {},
   "outputs": [
    {
     "data": {
      "text/latex": [
       "$\\displaystyle -2.0$"
      ],
      "text/plain": [
       "-2.0"
      ]
     },
     "execution_count": 63,
     "metadata": {},
     "output_type": "execute_result"
    }
   ],
   "source": [
    "x3.evalf(2, chop=True)"
   ]
  },
  {
   "cell_type": "code",
   "execution_count": 21,
   "id": "bbddf684",
   "metadata": {},
   "outputs": [],
   "source": [
    "x3 = -2\n",
    "y3 = x3**3 - 50*x3"
   ]
  },
  {
   "cell_type": "code",
   "execution_count": 22,
   "id": "e2485bdb",
   "metadata": {},
   "outputs": [
    {
     "data": {
      "text/plain": [
       "92"
      ]
     },
     "execution_count": 22,
     "metadata": {},
     "output_type": "execute_result"
    }
   ],
   "source": [
    "y3"
   ]
  },
  {
   "cell_type": "code",
   "execution_count": 64,
   "id": "ac877eb2",
   "metadata": {},
   "outputs": [
    {
     "data": {
      "text/latex": [
       "$\\displaystyle 9.0$"
      ],
      "text/plain": [
       "9.0"
      ]
     },
     "execution_count": 64,
     "metadata": {},
     "output_type": "execute_result"
    }
   ],
   "source": [
    "x4.evalf(2, chop=True)"
   ]
  },
  {
   "cell_type": "code",
   "execution_count": 23,
   "id": "dddeda3d",
   "metadata": {},
   "outputs": [],
   "source": [
    "x4 = 9\n",
    "y4 = x4**3 - 50*x4"
   ]
  },
  {
   "cell_type": "code",
   "execution_count": 24,
   "id": "b2434dbf",
   "metadata": {},
   "outputs": [
    {
     "data": {
      "text/plain": [
       "279"
      ]
     },
     "execution_count": 24,
     "metadata": {},
     "output_type": "execute_result"
    }
   ],
   "source": [
    "y4"
   ]
  },
  {
   "cell_type": "code",
   "execution_count": null,
   "id": "c0e3a2d6",
   "metadata": {},
   "outputs": [],
   "source": [
    "# 2. Построить графики функций в одной системе координат"
   ]
  },
  {
   "cell_type": "code",
   "execution_count": 18,
   "id": "cfbb35cc",
   "metadata": {},
   "outputs": [
    {
     "data": {
      "image/png": "[encoded data removed]",
      "text/plain": [
       "<Figure size 640x480 with 1 Axes>"
      ]
     },
     "metadata": {},
     "output_type": "display_data"
    },
    {
     "data": {
      "text/plain": [
       "<sympy.plotting.plot.Plot at 0x1bcb15c6fa0>"
      ]
     },
     "execution_count": 18,
     "metadata": {},
     "output_type": "execute_result"
    }
   ],
   "source": [
    "plot(fx, gx)"
   ]
  },
  {
   "cell_type": "code",
   "execution_count": null,
   "id": "bfb0e6b0",
   "metadata": {},
   "outputs": [],
   "source": [
    "# 3. Построить график общей функции"
   ]
  },
  {
   "cell_type": "code",
   "execution_count": 25,
   "id": "c8d07e31",
   "metadata": {},
   "outputs": [
    {
     "data": {
      "image/png": "[encoded data removed]",
      "text/plain": [
       "<Figure size 640x480 with 1 Axes>"
      ]
     },
     "metadata": {},
     "output_type": "display_data"
    },
    {
     "data": {
      "text/plain": [
       "<sympy.plotting.plot.Plot at 0x19f806eec70>"
      ]
     },
     "execution_count": 25,
     "metadata": {},
     "output_type": "execute_result"
    }
   ],
   "source": [
    "plot(hx)"
   ]
  }
 ],
 "metadata": {
  "kernelspec": {
   "display_name": "Python 3 (ipykernel)",
   "language": "python",
   "name": "python3"
  },
  "language_info": {
   "codemirror_mode": {
    "name": "ipython",
    "version": 3
   },
   "file_extension": ".py",
   "mimetype": "text/x-python",
   "name": "python",
   "nbconvert_exporter": "python",
   "pygments_lexer": "ipython3",
   "version": "3.9.13"
  }
 },
 "nbformat": 4,
 "nbformat_minor": 5
}
